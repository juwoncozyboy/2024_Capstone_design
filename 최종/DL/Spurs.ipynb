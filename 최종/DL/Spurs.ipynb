{
 "cells": [
  {
   "cell_type": "code",
   "execution_count": 1,
   "metadata": {},
   "outputs": [],
   "source": [
    "import pandas as pd\n",
    "import numpy as np\n",
    "import torch\n",
    "import torch.nn as nn\n",
    "from torch.utils.data import DataLoader, Dataset\n",
    "from sklearn.preprocessing import MinMaxScaler\n",
    "import datetime\n",
    "import matplotlib.pyplot as plt\n",
    "device = torch.device(\"cuda\" if torch.cuda.is_available() else \"cpu\")\n",
    "from torch.utils.tensorboard import SummaryWriter  # TensorBoard 임포트\n",
    "from sklearn.metrics import mean_absolute_error"
   ]
  },
  {
   "cell_type": "code",
   "execution_count": 2,
   "metadata": {},
   "outputs": [],
   "source": [
    "# CSV 파일 로드\n",
    "df = pd.read_csv('/Users/juwonkim/Desktop/4학년 1학기/캡스톤 디자인/seasons/final.csv', parse_dates=['DateTime'])\n",
    "\n",
    "# 날짜 기준으로 train/test 분리\n",
    "train_df = df[df['DateTime'] < '2020-05']\n",
    "test_df = df[df['DateTime'] >= '2020-05']\n",
    "\n",
    "# 'DateTime' 열 제거 및 필요한 열만 사용\n",
    "train_df = train_df[['Tottenham_Points']]\n",
    "test_df = test_df[['Tottenham_Points']]\n",
    "\n",
    "# 정규화\n",
    "scaler = MinMaxScaler()\n",
    "train_data = scaler.fit_transform(train_df)\n",
    "test_data = scaler.transform(test_df)\n"
   ]
  },
  {
   "cell_type": "code",
   "execution_count": 3,
   "metadata": {},
   "outputs": [],
   "source": [
    "class TimeSeriesDataset(Dataset):\n",
    "    def __init__(self, data, seq_length):\n",
    "        self.data = data\n",
    "        self.seq_length = seq_length\n",
    "\n",
    "    def __len__(self):\n",
    "        return len(self.data) - self.seq_length\n",
    "\n",
    "    def __getitem__(self, idx):\n",
    "        x = self.data[idx:idx+self.seq_length]\n",
    "        y = self.data[idx+self.seq_length]\n",
    "        return torch.tensor(x, dtype=torch.float32), torch.tensor(y, dtype=torch.float32)\n",
    "\n",
    "seq_length = 10  # 시퀀스 길이 설정\n",
    "train_dataset = TimeSeriesDataset(train_data, seq_length)\n",
    "test_dataset = TimeSeriesDataset(test_data, seq_length)\n",
    "\n",
    "train_loader = DataLoader(train_dataset, batch_size=32, shuffle=True)\n",
    "test_loader = DataLoader(test_dataset, batch_size=1, shuffle=False)\n"
   ]
  },
  {
   "cell_type": "code",
   "execution_count": 4,
   "metadata": {},
   "outputs": [],
   "source": [
    "class LSTMModel(nn.Module):\n",
    "    def __init__(self, input_size=1, hidden_size=50, num_layers=2, output_size=1):\n",
    "        super(LSTMModel, self).__init__()\n",
    "        self.hidden_size = hidden_size\n",
    "        self.num_layers = num_layers\n",
    "        self.lstm = nn.LSTM(input_size, hidden_size, num_layers, batch_first=True)\n",
    "        self.fc = nn.Linear(hidden_size, output_size)\n",
    "\n",
    "    def forward(self, x):\n",
    "        h0 = torch.zeros(self.num_layers, x.size(0), self.hidden_size).to(device)\n",
    "        c0 = torch.zeros(self.num_layers, x.size(0), self.hidden_size).to(device)\n",
    "        out, _ = self.lstm(x, (h0, c0))\n",
    "        out = self.fc(out[:, -1, :])\n",
    "        return out\n",
    "\n",
    "model = LSTMModel().to(device)\n"
   ]
  },
  {
   "cell_type": "code",
   "execution_count": 5,
   "metadata": {},
   "outputs": [
    {
     "name": "stdout",
     "output_type": "stream",
     "text": [
      "Epoch [10/100], Loss: 0.0280, MAE: 0.1185\n",
      "Epoch [20/100], Loss: 0.0169, MAE: 0.0716\n",
      "Epoch [30/100], Loss: 0.0168, MAE: 0.0965\n",
      "Epoch [40/100], Loss: 0.0155, MAE: 0.0953\n",
      "Epoch [50/100], Loss: 0.0155, MAE: 0.0425\n",
      "Epoch [60/100], Loss: 0.0156, MAE: 0.0567\n",
      "Epoch [70/100], Loss: 0.0150, MAE: 0.0798\n",
      "Epoch [80/100], Loss: 0.0152, MAE: 0.0682\n",
      "Epoch [90/100], Loss: 0.0148, MAE: 0.0484\n",
      "Epoch [100/100], Loss: 0.0150, MAE: 0.0845\n"
     ]
    },
    {
     "data": {
      "image/png": "[encoded data removed]",
      "text/plain": [
       "<Figure size 1000x600 with 1 Axes>"
      ]
     },
     "metadata": {},
     "output_type": "display_data"
    },
    {
     "name": "stdout",
     "output_type": "stream",
     "text": [
      "Actual: 0.375, Predicted: 0.19503575563430786\n",
      "Actual: 0.4375, Predicted: 0.3484652042388916\n",
      "Actual: 0.625, Predicted: 0.43442225456237793\n",
      "Actual: 0.625, Predicted: 0.6095877885818481\n",
      "Actual: 0.625, Predicted: 0.6487292051315308\n",
      "Actual: 0.625, Predicted: 0.6258980631828308\n",
      "Actual: 0.625, Predicted: 0.5876433849334717\n",
      "Actual: 0.625, Predicted: 0.5492929220199585\n",
      "Actual: 0.625, Predicted: 0.5190500020980835\n",
      "Actual: 0.625, Predicted: 0.504233717918396\n",
      "Actual: 0.625, Predicted: 0.5023155808448792\n",
      "Actual: 0.625, Predicted: 0.503729522228241\n",
      "Actual: 0.625, Predicted: 0.5046700835227966\n",
      "Actual: 0.625, Predicted: 0.5046700835227966\n",
      "Actual: 0.625, Predicted: 0.5046700835227966\n",
      "Actual: 0.625, Predicted: 0.5046700835227966\n",
      "Actual: 0.625, Predicted: 0.5046700835227966\n",
      "Actual: 0.625, Predicted: 0.5046700835227966\n",
      "Actual: 0.625, Predicted: 0.5046700835227966\n",
      "Actual: 0.625, Predicted: 0.5046700835227966\n",
      "Actual: 0.625, Predicted: 0.5046700835227966\n",
      "Actual: 0.625, Predicted: 0.5046700835227966\n",
      "Actual: 0.625, Predicted: 0.5046700835227966\n",
      "Mean Absolute Error (MAE) on test data: 0.1047\n"
     ]
    }
   ],
   "source": [
    "# 텐서보드 설정\n",
    "log_dir = \"runs/fit/\" + datetime.datetime.now().strftime(\"%Y%m%d-%H%M%S\")\n",
    "writer = SummaryWriter(log_dir)\n",
    "\n",
    "criterion = nn.MSELoss()\n",
    "optimizer = torch.optim.Adam(model.parameters(), lr=0.001)\n",
    "\n",
    "num_epochs = 100\n",
    "for epoch in range(num_epochs):\n",
    "    model.train()\n",
    "    train_loss = 0.0\n",
    "    for inputs, targets in train_loader:\n",
    "        inputs, targets = inputs.to(device), targets.to(device)\n",
    "        outputs = model(inputs)\n",
    "        loss = criterion(outputs, targets)\n",
    "        \n",
    "        optimizer.zero_grad()\n",
    "        loss.backward()\n",
    "        optimizer.step()\n",
    "        \n",
    "        train_loss += loss.item()\n",
    "    \n",
    "    train_loss /= len(train_loader)\n",
    "    \n",
    "    # MAE 계산\n",
    "    mae_train = mean_absolute_error(targets.cpu().detach().numpy(), outputs.cpu().detach().numpy())\n",
    "    \n",
    "    writer.add_scalar('Loss/train', train_loss, epoch)\n",
    "    writer.add_scalar('MAE/train', mae_train, epoch)  # 텐서보드에 MAE 값 기록\n",
    "    \n",
    "    if (epoch+1) % 10 == 0:\n",
    "        print(f'Epoch [{epoch+1}/{num_epochs}], Loss: {train_loss:.4f}, MAE: {mae_train:.4f}')\n",
    "\n",
    "\n",
    "# 평가 및 예측\n",
    "model.eval()\n",
    "predictions = []\n",
    "actuals = []\n",
    "with torch.no_grad():\n",
    "    for inputs, targets in test_loader:\n",
    "        inputs, targets = inputs.to(device), targets.to(device)\n",
    "        outputs = model(inputs)\n",
    "        predictions.append(outputs.item())\n",
    "        actuals.append(targets.item())\n",
    "# 결과 시각화\n",
    "plt.figure(figsize=(10, 6))\n",
    "plt.plot(actuals, label='Actual')\n",
    "plt.plot(predictions, label='Predicted')\n",
    "plt.legend()\n",
    "plt.show()\n",
    "\n",
    "# 예측 결과 출력\n",
    "for i in range(len(predictions)):\n",
    "    print(f\"Actual: {actuals[i]}, Predicted: {predictions[i]}\")\n",
    "\n",
    "# 테스트 데이터에 대한 MAE 계산\n",
    "mae_test = mean_absolute_error(actuals, predictions)\n",
    "print(f\"Mean Absolute Error (MAE) on test data: {mae_test:.4f}\")\n",
    "\n",
    "# 텐서보드 종료\n",
    "writer.close()\n",
    "\n"
   ]
  }
 ],
 "metadata": {
  "kernelspec": {
   "display_name": "base",
   "language": "python",
   "name": "python3"
  },
  "language_info": {
   "codemirror_mode": {
    "name": "ipython",
    "version": 3
   },
   "file_extension": ".py",
   "mimetype": "text/x-python",
   "name": "python",
   "nbconvert_exporter": "python",
   "pygments_lexer": "ipython3",
   "version": "3.11.5"
  }
 },
 "nbformat": 4,
 "nbformat_minor": 2
}
